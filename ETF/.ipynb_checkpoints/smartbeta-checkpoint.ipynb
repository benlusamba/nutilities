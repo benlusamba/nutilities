{
 "cells": [
  {
   "cell_type": "code",
   "execution_count": 1,
   "metadata": {},
   "outputs": [],
   "source": [
    "import pandas as pd\n",
    "import csv\n",
    "import matplotlib.pyplot as plt\n",
    "import matplotlib.dates as mdates\n",
    "import matplotlib.ticker as ticker\n",
    "import numpy as np\n",
    "import numpy\n",
    "import math\n",
    "from scipy.stats import scoreatpercentile\n",
    "from scipy.stats.mstats import mode, gmean, hmean"
   ]
  },
  {
   "cell_type": "code",
   "execution_count": 2,
   "metadata": {},
   "outputs": [],
   "source": [
    "df2 = pd.read_csv('shiller.csv')"
   ]
  },
  {
   "cell_type": "code",
   "execution_count": 3,
   "metadata": {},
   "outputs": [],
   "source": [
    "#Extract critical vectors for stock analysis:\n",
    "x = df2['Year'].values\n",
    "y = df2['Cyclically Adjusted PE Ratio'].values"
   ]
  },
  {
   "cell_type": "code",
   "execution_count": 4,
   "metadata": {},
   "outputs": [
    {
     "data": {
      "image/png": "[encoded data removed]",
      "text/plain": [
       "<Figure size 432x288 with 1 Axes>"
      ]
     },
     "metadata": {},
     "output_type": "display_data"
    }
   ],
   "source": [
    "plt.plot(x, y, c = 'orange')                                    # Plot\n",
    "axes = plt.gca()                                                # Define axes\n",
    "plt.ylim(8, 50)                                                 # Set y axis limits\n",
    "plt.gcf().autofmt_xdate()                                       # beautify the x-labels\n",
    "# Adjust axis scales\n",
    "axes.set_yticks(axes.get_yticks()[::2])\n",
    "axes.set_xticks(axes.get_xticks()[::15])\n",
    "\n",
    "#Label graph, and show:\n",
    "plt.title('CAPE: 2008 - 2018')\n",
    "plt.show()\n"
   ]
  },
  {
   "cell_type": "code",
   "execution_count": 5,
   "metadata": {},
   "outputs": [
    {
     "name": "stdout",
     "output_type": "stream",
     "text": [
      "Summary Stats (CAPE)\n",
      "min 13.32366766\n",
      "max 33.30734383\n",
      "std 3.968825529864398\n",
      "mean 23.390759648524586\n",
      "median 23.356344865\n"
     ]
    }
   ],
   "source": [
    "#Provide summary stats to benchmark index selection:\n",
    "print(\"Summary Stats (CAPE)\")\n",
    "print(\"min\", numpy.min(y))\n",
    "print(\"max\", numpy.max(y))\n",
    "print(\"std\", numpy.std(y))\n",
    "print(\"mean\", numpy.mean(y))\n",
    "print(\"median\", numpy.median(y))"
   ]
  },
  {
   "cell_type": "code",
   "execution_count": 6,
   "metadata": {},
   "outputs": [
    {
     "data": {
      "image/png": "[encoded data removed]",
      "text/plain": [
       "<Figure size 432x288 with 1 Axes>"
      ]
     },
     "metadata": {},
     "output_type": "display_data"
    }
   ],
   "source": [
    "#Show Histogram of CAPE for past 18 Years:\n",
    "plt.hist(y, bins='auto', orientation='vertical')\n",
    "plt.title('CAPE Histogram (2008 - 2018)')\n",
    "plt.show()"
   ]
  },
  {
   "cell_type": "code",
   "execution_count": 7,
   "metadata": {},
   "outputs": [],
   "source": [
    "#Onto to the Smart BETA selection process:"
   ]
  },
  {
   "cell_type": "code",
   "execution_count": 8,
   "metadata": {},
   "outputs": [],
   "source": [
    "#import the stock dataset, convert to csv, and read csv for analysis:\n",
    "df1 = pd.read_csv('stocks.csv')"
   ]
  },
  {
   "cell_type": "code",
   "execution_count": 9,
   "metadata": {},
   "outputs": [
    {
     "name": "stdout",
     "output_type": "stream",
     "text": [
      "P/E Set: [18.14 15.24 25.71 18.25 18.85 26.56 15.63 14.18 10.51 23.54 10.16 15.03\n",
      " 15.86 13.74 21.89 22.98 20.58 14.07 26.28 30.7  13.08 17.93 16.94 22.53\n",
      " 18.   32.83 12.14 18.11 21.31]\n"
     ]
    }
   ],
   "source": [
    "company = df1['ticker'].values\n",
    "\n",
    "#Focus on TTM P/E:\n",
    "pe = df1['pe_ratio_12m'].values               \n",
    "print('P/E Set:', pe)"
   ]
  },
  {
   "cell_type": "code",
   "execution_count": 10,
   "metadata": {},
   "outputs": [
    {
     "data": {
      "image/png": "[encoded data removed]",
      "text/plain": [
       "<Figure size 432x288 with 1 Axes>"
      ]
     },
     "metadata": {},
     "output_type": "display_data"
    }
   ],
   "source": [
    "#More data visualization:\n",
    "plt.hist(pe, bins='auto', orientation='vertical')\n",
    "plt.title('P/E Distribution (TTM) - Skewed')\n",
    "plt.show()"
   ]
  },
  {
   "cell_type": "code",
   "execution_count": 11,
   "metadata": {},
   "outputs": [
    {
     "name": "stdout",
     "output_type": "stream",
     "text": [
      "Summary Stats (P/E):\n",
      "p/e median: 18.11\n",
      "p/e min: 10.16\n",
      "p/e max: 32.83\n",
      "p/e std: 5.618895080554382\n",
      "p/e mean: 18.992068965517237\n"
     ]
    }
   ],
   "source": [
    "#Derive summary data to compare against CAPE analysis:\n",
    "print(\"Summary Stats (P/E):\")\n",
    "print(\"p/e median:\", numpy.median(pe))\n",
    "print(\"p/e min:\", numpy.min(pe))\n",
    "print(\"p/e max:\", numpy.max(pe))\n",
    "print(\"p/e std:\", numpy.std(pe))\n",
    "print(\"p/e mean:\", numpy.mean(pe))"
   ]
  },
  {
   "cell_type": "code",
   "execution_count": 12,
   "metadata": {},
   "outputs": [],
   "source": [
    "#Define the \"value\" bands. Adjust st.dev. range in proportion to dateset size:\n",
    "beta_band = int(0.5*numpy.std(pe) + numpy.mean(pe))\n",
    "alpha_band = int(numpy.mean(pe) - 0.5*numpy.std(pe))"
   ]
  },
  {
   "cell_type": "code",
   "execution_count": 13,
   "metadata": {},
   "outputs": [
    {
     "name": "stdout",
     "output_type": "stream",
     "text": [
      "sell any stock with P/E above: 21\n",
      "buy any stock with P/E below: 16\n"
     ]
    }
   ],
   "source": [
    "print(\"sell any stock with P/E above:\", beta_band)\n",
    "print(\"buy any stock with P/E below:\", alpha_band)"
   ]
  },
  {
   "cell_type": "code",
   "execution_count": 14,
   "metadata": {},
   "outputs": [],
   "source": [
    "min_p = int(numpy.min(pe))\n",
    "max_p = int(numpy.max(pe))"
   ]
  },
  {
   "cell_type": "code",
   "execution_count": 15,
   "metadata": {},
   "outputs": [
    {
     "name": "stdout",
     "output_type": "stream",
     "text": [
      "And Here is our Long/Short Smart Beta ETF:\n",
      " \n",
      "Buy these: \n",
      " 1      AXP\n",
      "6      DIS\n",
      "7       GE\n",
      "8       GS\n",
      "10     IBM\n",
      "11    INTC\n",
      "12     JNJ\n",
      "13     JPM\n",
      "17     MRK\n",
      "20     PFE\n",
      "26      VZ\n",
      "Name: ticker, dtype: object\n",
      " \n",
      "Sell these: \n",
      " 2       BA\n",
      "5      CVX\n",
      "9       HD\n",
      "14      KO\n",
      "15     MCD\n",
      "18    MSFT\n",
      "19     NKE\n",
      "23     UNH\n",
      "25       V\n",
      "28     XOM\n",
      "Name: ticker, dtype: object\n"
     ]
    }
   ],
   "source": [
    "print(\"And Here is our Long/Short Smart Beta ETF:\")\n",
    "print(\" \")\n",
    "print(\"Buy these:\", \"\\n\", df1[df1.pe_ratio_12m <= alpha_band].ticker)\n",
    "print(\" \")\n",
    "print(\"Sell these:\",\"\\n\", df1[df1.pe_ratio_12m >= beta_band].ticker)"
   ]
  }
 ],
 "metadata": {
  "kernelspec": {
   "display_name": "Python 3",
   "language": "python",
   "name": "python3"
  },
  "language_info": {
   "codemirror_mode": {
    "name": "ipython",
    "version": 3
   },
   "file_extension": ".py",
   "mimetype": "text/x-python",
   "name": "python",
   "nbconvert_exporter": "python",
   "pygments_lexer": "ipython3",
   "version": "3.6.4"
  }
 },
 "nbformat": 4,
 "nbformat_minor": 2
}
