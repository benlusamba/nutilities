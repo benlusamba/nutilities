{
 "cells": [
  {
   "cell_type": "code",
   "execution_count": 1,
   "metadata": {},
   "outputs": [],
   "source": [
    "import numpy as np\n",
    "import math\n",
    "import time"
   ]
  },
  {
   "cell_type": "code",
   "execution_count": 2,
   "metadata": {},
   "outputs": [],
   "source": [
    "class OptionPricer(object):\n",
    "\n",
    "    def __init__(self, SO, E, T, rf, sigma, iterations):\n",
    "        self.SO = SO\n",
    "        self.E = E\n",
    "        self.T = T\n",
    "        self.rf = rf\n",
    "        self.sigma = sigma\n",
    "        self.iterations = iterations\n",
    "        \n",
    "    #Price Call Option:    \n",
    "    def call_option_simulation(self):\n",
    "        option_data = np.zeros([self.iterations, 2])\n",
    "\n",
    "        rand = np.random.normal(0, 1, [1, self.iterations])\n",
    "\n",
    "        stock_price = self.SO*np.exp(self.T*(self.rf - 0.5*self.sigma**2) + self.sigma*np.sqrt(self.T)*rand)\n",
    "\n",
    "        option_data [:,1] = stock_price - self.E\n",
    "\n",
    "        #Average price:\n",
    "        average = np.sum(np.amax(option_data, axis=1))/float(self.iterations)\n",
    "\n",
    "        return np.exp(-1.0*self.rf*self.T)*average\n",
    "\n",
    "    #Price Put Option: \n",
    "    def put_option_simulation(self):\n",
    "        option_data = np.zeros([self.iterations, 2])\n",
    "\n",
    "        rand = np.random.normal(0, 1, [1, self.iterations])\n",
    "\n",
    "        stock_price = self.SO*np.exp(self.T*(self.rf - 0.5*self.sigma**2) + self.sigma*np.sqrt(self.T)*rand)\n",
    "\n",
    "        option_data [:,1] = self.E - stock_price\n",
    "\n",
    "        #Average price:\n",
    "        average = np.sum(np.amax(option_data, axis=1))/float(self.iterations)\n",
    "\n",
    "        return np.exp(-1.0*self.rf*self.T)*average"
   ]
  },
  {
   "cell_type": "code",
   "execution_count": 3,
   "metadata": {},
   "outputs": [
    {
     "name": "stdout",
     "output_type": "stream",
     "text": [
      "Monte Carlo approach call is:  17.67041547680356\n",
      "Monte Carlo approach put is:  2.8002261747377375\n"
     ]
    }
   ],
   "source": [
    "if __name__ == '__main__':\n",
    "\n",
    "    SO = 110\n",
    "    E = 100\n",
    "    T = 1\n",
    "    rf = 0.05\n",
    "    sigma = 0.2\n",
    "    iterations = 100000\n",
    "\n",
    "    OptionPricer(SO, E, T, rf, sigma, iterations)\n",
    "\n",
    "    model = OptionPricer(SO, E, T, rf, sigma, iterations)\n",
    "    print(\"Monte Carlo approach call is: \", model.call_option_simulation())\n",
    "    print(\"Monte Carlo approach put is: \", model.put_option_simulation())\n"
   ]
  },
  {
   "cell_type": "code",
   "execution_count": 4,
   "metadata": {},
   "outputs": [
    {
     "name": "stdout",
     "output_type": "stream",
     "text": [
      "Price of the underlying? : 110\n",
      "How many simulations? : 100000\n",
      "Monte Carlo approach call is:  17.662543048057625 using 100000 simulations\n",
      "Monte Carlo approach put is:  2.798205963713022 using 100000 simulations\n"
     ]
    }
   ],
   "source": [
    "#Allow for user inputs: \n",
    "if __name__ == '__main__':\n",
    "\n",
    "    SO = float(input('Price of the underlying? : '))\n",
    "    E = 100\n",
    "    T = 1\n",
    "    rf = 0.05\n",
    "    sigma = 0.2\n",
    "    iterations = int(input('How many simulations? : ' ))\n",
    "\n",
    "    OptionPricer(SO, E, T, rf, sigma, iterations)\n",
    "\n",
    "    model = OptionPricer(SO, E, T, rf, sigma, iterations)\n",
    "    print(\"Monte Carlo approach call is: \", model.call_option_simulation(), \"using\", iterations, \"simulations\")\n",
    "    print(\"Monte Carlo approach put is: \", model.put_option_simulation(), \"using\", iterations, \"simulations\")"
   ]
  }
 ],
 "metadata": {
  "kernelspec": {
   "display_name": "Python 3",
   "language": "python",
   "name": "python3"
  },
  "language_info": {
   "codemirror_mode": {
    "name": "ipython",
    "version": 3
   },
   "file_extension": ".py",
   "mimetype": "text/x-python",
   "name": "python",
   "nbconvert_exporter": "python",
   "pygments_lexer": "ipython3",
   "version": "3.6.4"
  }
 },
 "nbformat": 4,
 "nbformat_minor": 2
}
