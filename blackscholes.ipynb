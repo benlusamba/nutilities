{
 "cells": [
  {
   "cell_type": "code",
   "execution_count": 12,
   "metadata": {},
   "outputs": [
    {
     "data": {
      "text/plain": [
       "\"Extensions to Princeton's Resource regarding Black-Scholes. \\n Obviating need to import stdio and sys modules and including a fomula for a put option\\n Source: https://introcs.cs.princeton.edu/python/21function/blackscholes.py\""
      ]
     },
     "execution_count": 12,
     "metadata": {},
     "output_type": "execute_result"
    }
   ],
   "source": [
    "\"\"\"Extensions to Princeton's Resource regarding Black-Scholes. \n",
    " Obviating need to import stdio and sys modules and including a fomula for a put option\n",
    " Source: https://introcs.cs.princeton.edu/python/21function/blackscholes.py\"\"\""
   ]
  },
  {
   "cell_type": "code",
   "execution_count": 13,
   "metadata": {},
   "outputs": [],
   "source": [
    "import math"
   ]
  },
  {
   "cell_type": "code",
   "execution_count": 14,
   "metadata": {},
   "outputs": [],
   "source": [
    "def phi(x):\n",
    "    return math.exp(-x * x / 2.0) / math.sqrt(2.0 * math.pi)"
   ]
  },
  {
   "cell_type": "code",
   "execution_count": 15,
   "metadata": {},
   "outputs": [],
   "source": [
    "def pdf(x, mu=0.0, sigma=1.0):\n",
    "    return phi((x - mu) / sigma) / sigma\n"
   ]
  },
  {
   "cell_type": "code",
   "execution_count": 16,
   "metadata": {},
   "outputs": [],
   "source": [
    "def Phi(z):\n",
    "    if z < -8.0: return 0.0\n",
    "    if z >  8.0: return 1.0\n",
    "    total = 0.0\n",
    "    term = z\n",
    "    i = 3\n",
    "    while total != total + term:\n",
    "        total += term\n",
    "        term *= z * z / float(i)\n",
    "        i += 2\n",
    "    return 0.5 + total * phi(z)"
   ]
  },
  {
   "cell_type": "code",
   "execution_count": 17,
   "metadata": {},
   "outputs": [],
   "source": [
    "def cdf(z, mu=0.0, sigma=1.0):\n",
    "    return Phi((z - mu) / sigma)"
   ]
  },
  {
   "cell_type": "code",
   "execution_count": 18,
   "metadata": {},
   "outputs": [],
   "source": [
    "def callPrice(s, x, r, sigma, t):\n",
    "    a = (math.log(s/x) + (r + sigma * sigma/2.0) * t) / \\\n",
    "        (sigma * math.sqrt(t))\n",
    "    b = a - sigma * math.sqrt(t)\n",
    "    return s * cdf(a) - x * math.exp(-r * t) * cdf(b)"
   ]
  },
  {
   "cell_type": "code",
   "execution_count": 19,
   "metadata": {},
   "outputs": [],
   "source": [
    "#Definition for Put option. Extension to Princeton: \n",
    "def putPrice(s, x, r, sigma, t):\n",
    "    a = (math.log(s/x) + (r + sigma * sigma/2.0) * t) / \\\n",
    "        (sigma * math.sqrt(t))\n",
    "    b = a - sigma * math.sqrt(t)\n",
    "    return -(s * cdf(a)) + x * math.exp(-r * t) * cdf(b)"
   ]
  },
  {
   "cell_type": "code",
   "execution_count": 20,
   "metadata": {},
   "outputs": [],
   "source": [
    "#Clarify parameter properties:\n",
    "s     = float()\n",
    "x     = float()\n",
    "r     = float()\n",
    "sigma = float()\n",
    "t     = float()"
   ]
  },
  {
   "cell_type": "code",
   "execution_count": 21,
   "metadata": {},
   "outputs": [
    {
     "name": "stdout",
     "output_type": "stream",
     "text": [
      "Long CALL:  137.9873153733859\n",
      "Short PUT:  -137.9873153733859\n"
     ]
    }
   ],
   "source": [
    "print(\"Long CALL: \", callPrice(1000, 1200, 0.022, 0.40, 1.5))\n",
    "print(\"Short PUT: \", putPrice(1000, 1200, 0.022, 0.40, 1.5))\n"
   ]
  }
 ],
 "metadata": {
  "kernelspec": {
   "display_name": "Python 3",
   "language": "python",
   "name": "python3"
  },
  "language_info": {
   "codemirror_mode": {
    "name": "ipython",
    "version": 3
   },
   "file_extension": ".py",
   "mimetype": "text/x-python",
   "name": "python",
   "nbconvert_exporter": "python",
   "pygments_lexer": "ipython3",
   "version": "3.6.4"
  }
 },
 "nbformat": 4,
 "nbformat_minor": 2
}
